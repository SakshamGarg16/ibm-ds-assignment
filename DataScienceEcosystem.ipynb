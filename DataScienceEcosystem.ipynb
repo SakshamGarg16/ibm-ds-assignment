{
 "cells": [
  {
   "cell_type": "markdown",
   "id": "d99102c7-b0be-45ef-8228-970de67880e2",
   "metadata": {},
   "source": [
    "# Data Science Tools and Ecosystem\n"
   ]
  },
  {
   "cell_type": "markdown",
   "id": "a3b11918-657a-4cef-acb9-9266f186ce20",
   "metadata": {},
   "source": [
    "## Introduction\n",
    "In this notebook, we will summarize the tools and ecosystems commonly used in data science."
   ]
  },
  {
   "cell_type": "markdown",
   "id": "066f663b-3c17-475d-8b73-82b242f55e95",
   "metadata": {},
   "source": [
    "## Data Science Languages\n",
    "Some popular languages used by data scientists include:\n",
    "1. Python\n",
    "2. R\n",
    "3. SQL"
   ]
  },
  {
   "cell_type": "markdown",
   "id": "c827e276-9fcd-45d9-91f6-fee3c287fcce",
   "metadata": {},
   "source": [
    "## Data Science Libraries\n",
    "Some commonly used libraries are:\n",
    "- Pandas\n",
    "- NumPy\n",
    "- Matplotlib\n",
    "- TensorFlow"
   ]
  },
  {
   "cell_type": "markdown",
   "id": "0b2fffe4-607b-4807-b5f5-07ea039ad275",
   "metadata": {},
   "source": [
    "## Data Science Tools\n",
    "\n",
    "| Tool             | Description                         |\n",
    "|------------------|-------------------------------------|\n",
    "| Jupyter Notebook | Interactive coding environment      |\n",
    "| RStudio          | IDE for R programming               |\n",
    "| Apache Spark     | Big data processing framework       |\n"
   ]
  },
  {
   "cell_type": "markdown",
   "id": "e9cc699f-4e33-4167-9ddd-c2b126df236f",
   "metadata": {},
   "source": [
    "## Arithmetic Expression Examples\n",
    "Below are some examples of simple arithmetic expressions in Python."
   ]
  },
  {
   "cell_type": "code",
   "execution_count": 1,
   "id": "530ca8d5-5ef2-460c-a6a7-899f27b9c93b",
   "metadata": {},
   "outputs": [
    {
     "data": {
      "text/plain": [
       "17"
      ]
     },
     "execution_count": 1,
     "metadata": {},
     "output_type": "execute_result"
    }
   ],
   "source": [
    "# This multiplies and adds numbers\n",
    "(3 * 4) + 5"
   ]
  },
  {
   "cell_type": "code",
   "execution_count": 2,
   "id": "37130667-62df-45a3-9589-4259c6edeedc",
   "metadata": {},
   "outputs": [
    {
     "data": {
      "text/plain": [
       "3.3333333333333335"
      ]
     },
     "execution_count": 2,
     "metadata": {},
     "output_type": "execute_result"
    }
   ],
   "source": [
    "# This converts minutes to hours\n",
    "minutes = 200\n",
    "hours = minutes / 60\n",
    "hours"
   ]
  },
  {
   "cell_type": "markdown",
   "id": "ed7c8692-3de3-4553-892d-570b253a0545",
   "metadata": {},
   "source": [
    "## Objectives\n",
    "In this notebook we will:\n",
    "- List popular languages for Data Science\n",
    "- Identify commonly used libraries\n",
    "- Create tables for Data Science tools\n",
    "- Demonstrate simple arithmetic expressions\n",
    "- Convert minutes to hours"
   ]
  },
  {
   "cell_type": "markdown",
   "id": "aa6f0633-b9c1-4615-b4bb-a306745a26fc",
   "metadata": {},
   "source": [
    "## Author\n",
    "Saksham Garg"
   ]
  }
 ],
 "metadata": {
  "kernelspec": {
   "display_name": "Python 3 (ipykernel)",
   "language": "python",
   "name": "python3"
  },
  "language_info": {
   "codemirror_mode": {
    "name": "ipython",
    "version": 3
   },
   "file_extension": ".py",
   "mimetype": "text/x-python",
   "name": "python",
   "nbconvert_exporter": "python",
   "pygments_lexer": "ipython3",
   "version": "3.12.8"
  }
 },
 "nbformat": 4,
 "nbformat_minor": 5
}
